{
 "cells": [
  {
   "cell_type": "markdown",
   "id": "fae55767",
   "metadata": {},
   "source": [
    "#### Authentication"
   ]
  },
  {
   "cell_type": "markdown",
   "id": "8bb2469c",
   "metadata": {},
   "source": [
    "create gee non profit project"
   ]
  },
  {
   "cell_type": "code",
   "execution_count": 2,
   "id": "de3a72a2",
   "metadata": {},
   "outputs": [
    {
     "data": {
      "text/html": [
       "<p>To authorize access needed by Earth Engine, open the following\n",
       "        URL in a web browser and follow the instructions:</p>\n",
       "        <p><a href=https://code.earthengine.google.com/client-auth?scopes=https%3A//www.googleapis.com/auth/earthengine%20https%3A//www.googleapis.com/auth/cloud-platform%20https%3A//www.googleapis.com/auth/devstorage.full_control&request_id=_u6Ap9t_GsQ73ql40RGpgeRxGvNrCcfRYodnyl2MURs&tc=vPy2mAFMxEOAvPM6w7Y4oEPC87qCqdyiFJZ-X8me_j4&cc=JG4o56kiqBsVK0pQNt4DAcGY6UYAIhUmNmyvexV1XVI>https://code.earthengine.google.com/client-auth?scopes=https%3A//www.googleapis.com/auth/earthengine%20https%3A//www.googleapis.com/auth/cloud-platform%20https%3A//www.googleapis.com/auth/devstorage.full_control&request_id=_u6Ap9t_GsQ73ql40RGpgeRxGvNrCcfRYodnyl2MURs&tc=vPy2mAFMxEOAvPM6w7Y4oEPC87qCqdyiFJZ-X8me_j4&cc=JG4o56kiqBsVK0pQNt4DAcGY6UYAIhUmNmyvexV1XVI</a></p>\n",
       "        <p>The authorization workflow will generate a code, which you should paste in the box below.</p>\n",
       "        "
      ],
      "text/plain": [
       "<IPython.core.display.HTML object>"
      ]
     },
     "metadata": {},
     "output_type": "display_data"
    },
    {
     "name": "stdout",
     "output_type": "stream",
     "text": [
      "\n",
      "Successfully saved authorization token.\n"
     ]
    }
   ],
   "source": [
    "# import ee\n",
    "# ee.Authenticate()\n",
    "# ee.Initialize()\n",
    "\n",
    "#4/1Ab_5qlnP5Q6eLQKUaOhmM-GKuDWSGDoOQxKuJcIpdt7YIoyh6zLow8qvREY"
   ]
  },
  {
   "cell_type": "markdown",
   "id": "19de3a0f",
   "metadata": {},
   "source": [
    "#### Read data"
   ]
  },
  {
   "cell_type": "code",
   "execution_count": 1,
   "id": "86fbb8c3",
   "metadata": {},
   "outputs": [],
   "source": [
    "import ee\n",
    "import numpy as np\n",
    "import pandas as pd\n",
    "\n",
    "from datetime import datetime"
   ]
  },
  {
   "cell_type": "code",
   "execution_count": 2,
   "id": "e11cfada",
   "metadata": {},
   "outputs": [],
   "source": [
    "ee.Initialize() #init instance"
   ]
  },
  {
   "cell_type": "code",
   "execution_count": 5,
   "id": "2773d9e0",
   "metadata": {},
   "outputs": [],
   "source": [
    "#define region of interest\n",
    "roi = ee.Geometry.Polygon([[[-74.8333, 10.5000], #sw 10° 30′ N, 74° 50′ O → (-74.8333, 10.5000)\n",
    "                            [-74.3333, 10.5000], #se 10° 30′ N, 74° 20′ O → (-74.3333, 10.5000)\n",
    "                            [-74.3333, 11.2500], #ne 11° 15′ N, 74° 20′ O → (-74.3333, 11.2500)\n",
    "                            [-74.3333, 11.2500]  #nw 11° 15′ N, 74° 50′ O → (-74.8333, 11.2500)\n",
    "                            ]])"
   ]
  },
  {
   "cell_type": "code",
   "execution_count": 6,
   "id": "1c727139",
   "metadata": {},
   "outputs": [],
   "source": [
    "#sentinel 2\n",
    "sentinel = (ee.ImageCollection('COPERNICUS/S2_SR') #deprecated\n",
    "            .filterBounds(roi)\n",
    "            .filterDate('2023-01-01', '2023-12-31')\n",
    "            .filter(ee.Filter.lt('CLOUDY_PIXEL_PERCENTAGE', 30)) #cloud %\n",
    "            .select(['B2','B3','B4','B8']))  # b, g, r, nir\n"
   ]
  },
  {
   "cell_type": "code",
   "execution_count": 7,
   "id": "43e68ef8",
   "metadata": {},
   "outputs": [],
   "source": [
    "# Sentinel-2 Harmonized Surface Reflectance (Level-2A)\n",
    "sentinel = (ee.ImageCollection('COPERNICUS/S2_SR_HARMONIZED')\n",
    "            .filterBounds(roi)\n",
    "            .filterDate('2023-01-01', '2023-12-31')\n",
    "            .filter(ee.Filter.lt('CLOUDY_PIXEL_PERCENTAGE', 30))\n",
    "            .select(['B2','B3','B4','B8'])  # b, g, r, nir\n",
    "            )"
   ]
  },
  {
   "cell_type": "code",
   "execution_count": 8,
   "id": "9a49b0dc",
   "metadata": {},
   "outputs": [
    {
     "data": {
      "text/plain": [
       "138"
      ]
     },
     "execution_count": 8,
     "metadata": {},
     "output_type": "execute_result"
    }
   ],
   "source": [
    "sentinel.size().getInfo()"
   ]
  },
  {
   "cell_type": "code",
   "execution_count": 9,
   "id": "c97b17e3",
   "metadata": {},
   "outputs": [
    {
     "data": {
      "text/plain": [
       "['2023-01-01', '2023-01-03', '2023-01-03', '2023-01-06', '2023-01-06']"
      ]
     },
     "execution_count": 9,
     "metadata": {},
     "output_type": "execute_result"
    }
   ],
   "source": [
    "dates = sentinel.aggregate_array('system:time_start').getInfo()\n",
    "\n",
    "[datetime.fromtimestamp(t/1000).strftime('%Y-%m-%d') for t in dates][:5]"
   ]
  },
  {
   "cell_type": "markdown",
   "id": "9dbd00b1",
   "metadata": {},
   "source": [
    "define params e.g. turbidity"
   ]
  },
  {
   "cell_type": "markdown",
   "id": "3400dc90",
   "metadata": {},
   "source": [
    "$t=\\frac{B4 (\\text{NIR})-B3 (\\text{red})}{B4+B3}$"
   ]
  },
  {
   "cell_type": "code",
   "execution_count": 10,
   "id": "38fe85a7",
   "metadata": {},
   "outputs": [],
   "source": [
    "def add_turbidity(image): #relation r/b or tsm\n",
    "    turb = image.normalizedDifference(['B4','B3']).rename('turbidity')\n",
    "    return image.addBands(turb)"
   ]
  },
  {
   "cell_type": "markdown",
   "id": "4f6cc099",
   "metadata": {},
   "source": [
    "get images"
   ]
  },
  {
   "cell_type": "code",
   "execution_count": 11,
   "id": "4fabe9db",
   "metadata": {},
   "outputs": [],
   "source": [
    "base = sentinel.median() # ee.Image\n",
    "turbidity = base.normalizedDifference(['B4','B3']) # (B4−B3)/(B4+B3)\n",
    "turbidity = turbidity.rename('turbidity') # ee.Image\n",
    "\n",
    "composite = base.addBands(turbidity).unmask(0) # ee.Image with 5 bands"
   ]
  },
  {
   "cell_type": "code",
   "execution_count": 12,
   "id": "8f457d44",
   "metadata": {},
   "outputs": [
    {
     "data": {
      "text/plain": [
       "ee.image.Image"
      ]
     },
     "execution_count": 12,
     "metadata": {},
     "output_type": "execute_result"
    }
   ],
   "source": [
    "type(composite)"
   ]
  },
  {
   "cell_type": "code",
   "execution_count": 13,
   "id": "300f6a76",
   "metadata": {},
   "outputs": [],
   "source": [
    "patch_size, scale = 128, 10"
   ]
  },
  {
   "cell_type": "code",
   "execution_count": 14,
   "id": "4e45d429",
   "metadata": {},
   "outputs": [],
   "source": [
    "proj = composite.projection().atScale(scale) # ee.Projection con CRS\n",
    "reproj = composite.reproject(proj) #forces reprojection to 10 meters"
   ]
  },
  {
   "cell_type": "markdown",
   "id": "64ca6ca9",
   "metadata": {},
   "source": [
    "#### Use"
   ]
  },
  {
   "cell_type": "markdown",
   "id": "9dfa28fa",
   "metadata": {},
   "source": [
    "get region"
   ]
  },
  {
   "cell_type": "code",
   "execution_count": 15,
   "id": "0f4022ef",
   "metadata": {},
   "outputs": [],
   "source": [
    "lon, lat = -74.6, 11.0\n",
    "\n",
    "half_m = (patch_size//2) * scale\n",
    "meters_per_deg = 111320\n",
    "half_deg = half_m / meters_per_deg"
   ]
  },
  {
   "cell_type": "code",
   "execution_count": 16,
   "id": "a5f7557a",
   "metadata": {},
   "outputs": [],
   "source": [
    "region = ee.Geometry.Rectangle([\n",
    "    lon - half_deg, lat - half_deg,\n",
    "    lon + half_deg, lat + half_deg\n",
    "])"
   ]
  },
  {
   "cell_type": "code",
   "execution_count": 17,
   "id": "4ba916cf",
   "metadata": {},
   "outputs": [],
   "source": [
    "patch_feature = reproj.sampleRectangle(region=region,\n",
    "                                       defaultValue=0\n",
    "                                       )"
   ]
  },
  {
   "cell_type": "code",
   "execution_count": 18,
   "id": "5d255e58",
   "metadata": {},
   "outputs": [],
   "source": [
    "patch_dict = patch_feature.toDictionary()\n",
    "patch_data = patch_dict.getInfo()"
   ]
  },
  {
   "cell_type": "markdown",
   "id": "c6314137",
   "metadata": {},
   "source": [
    "to np"
   ]
  },
  {
   "cell_type": "code",
   "execution_count": 19,
   "id": "f6e1b274",
   "metadata": {},
   "outputs": [
    {
     "data": {
      "text/plain": [
       "dict_keys(['B2', 'B3', 'B4', 'B8', 'turbidity'])"
      ]
     },
     "execution_count": 19,
     "metadata": {},
     "output_type": "execute_result"
    }
   ],
   "source": [
    "patch_data.keys()"
   ]
  },
  {
   "cell_type": "code",
   "execution_count": 25,
   "id": "9b65dc78",
   "metadata": {},
   "outputs": [],
   "source": [
    "bands = patch_data.keys()\n",
    "\n",
    "arrays = [np.array(patch_data[b]) for b in bands]\n",
    "tensor = np.stack(arrays, axis=0) #stack on axis 0 -> (5, 128, 128)"
   ]
  },
  {
   "cell_type": "code",
   "execution_count": 26,
   "id": "412fa9bf",
   "metadata": {},
   "outputs": [
    {
     "data": {
      "text/plain": [
       "(5, 129, 129)"
      ]
     },
     "execution_count": 26,
     "metadata": {},
     "output_type": "execute_result"
    }
   ],
   "source": [
    "tensor.shape"
   ]
  },
  {
   "cell_type": "code",
   "execution_count": 29,
   "id": "7d392b9a",
   "metadata": {},
   "outputs": [],
   "source": [
    "np.save('batch.npy', tensor)"
   ]
  },
  {
   "cell_type": "code",
   "execution_count": null,
   "id": "73ce060d",
   "metadata": {},
   "outputs": [],
   "source": []
  }
 ],
 "metadata": {
  "kernelspec": {
   "display_name": "Python 3",
   "language": "python",
   "name": "python3"
  },
  "language_info": {
   "codemirror_mode": {
    "name": "ipython",
    "version": 3
   },
   "file_extension": ".py",
   "mimetype": "text/x-python",
   "name": "python",
   "nbconvert_exporter": "python",
   "pygments_lexer": "ipython3",
   "version": "3.12.2"
  }
 },
 "nbformat": 4,
 "nbformat_minor": 5
}
