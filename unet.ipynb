{
 "cells": [
  {
   "cell_type": "code",
   "execution_count": 1,
   "id": "01c9be03",
   "metadata": {},
   "outputs": [],
   "source": [
    "import os\n",
    "import numpy as np\n",
    "import math\n",
    "\n",
    "import torch\n",
    "import torch.nn as nn\n",
    "from torch.utils.data import Dataset, DataLoader\n",
    "from torchvision import transforms\n",
    "import torch.nn.functional as F\n",
    "\n",
    "import optuna\n",
    "# optuna.logging.set_verbosity(optuna.logging.WARNING)\n",
    "from sklearn.metrics import r2_score\n",
    "\n",
    "from typing import Optional, Tuple, List, Dict\n",
    "from dataclasses import dataclass, field\n",
    "from skimage.util import view_as_windows\n",
    "from collections import defaultdict\n",
    "\n",
    "import matplotlib.pyplot as plt\n",
    "plt.rcParams['figure.dpi'] = 200\n",
    "plt.rcParams['text.usetex'] = True\n",
    "os.environ['PATH'] = '/Library/TeX/texbin:' + os.environ['PATH']\n",
    "plt.style.use('dark_background')"
   ]
  },
  {
   "cell_type": "markdown",
   "id": "ab2062b9",
   "metadata": {},
   "source": [
    "#### read data"
   ]
  },
  {
   "cell_type": "code",
   "execution_count": 2,
   "id": "0e93cabb",
   "metadata": {},
   "outputs": [],
   "source": [
    "@dataclass\n",
    "class SatelliteDataset(Dataset):\n",
    "\n",
    "    images: np.ndarray\n",
    "    masks: np.ndarray\n",
    "    transform: Optional[callable] = None\n",
    "\n",
    "    mean = torch.tensor([0.485, 0.456, 0.406, 0.5], dtype=torch.float32)[:, None, None]\n",
    "    std = torch.tensor([0.229, 0.224, 0.225, 0.25], dtype=torch.float32)[:, None, None]\n",
    "\n",
    "    def __len__(self):\n",
    "        return len(self.images)\n",
    "\n",
    "    def __getitem__(self, idx):\n",
    "\n",
    "        img = torch.from_numpy(self.images[idx]).float()\n",
    "        img = (img - self.mean) / self.std\n",
    "        msk = torch.from_numpy(self.masks[idx]).float()\n",
    "\n",
    "        while msk.ndim > 2:\n",
    "            msk = msk.squeeze(0)\n",
    "        msk = msk.unsqueeze(0)\n",
    "        return img, msk"
   ]
  },
  {
   "cell_type": "markdown",
   "id": "3e10afa3",
   "metadata": {},
   "source": [
    "#### layers"
   ]
  },
  {
   "cell_type": "code",
   "execution_count": 3,
   "id": "e789485c",
   "metadata": {},
   "outputs": [],
   "source": [
    "@dataclass\n",
    "class DoubleConv(nn.Module):\n",
    "    def __init__(self, in_channels, out_channels):\n",
    "        super().__init__()\n",
    "        self.double_conv = nn.Sequential(\n",
    "            nn.Conv2d(in_channels, out_channels, kernel_size=3, padding=1),\n",
    "            nn.BatchNorm2d(out_channels),\n",
    "            nn.ReLU(inplace=True),\n",
    "            nn.Conv2d(out_channels, out_channels, kernel_size=3, padding=1),\n",
    "            nn.BatchNorm2d(out_channels),\n",
    "            nn.ReLU(inplace=True)\n",
    "        )\n",
    "\n",
    "    def __hash__(self): #make instance hashable by its id\n",
    "        return id(self)\n",
    "\n",
    "    def forward(self, x):\n",
    "        return self.double_conv(x)"
   ]
  },
  {
   "cell_type": "markdown",
   "id": "f6e9ade2",
   "metadata": {},
   "source": [
    "#### simple unet"
   ]
  },
  {
   "cell_type": "code",
   "execution_count": 4,
   "id": "f3fd1572",
   "metadata": {},
   "outputs": [],
   "source": [
    "@dataclass\n",
    "class UNet(nn.Module):\n",
    "    def __init__(self, in_channels=5, out_channels=1, features=[64, 128, 256, 512]):\n",
    "        super().__init__()\n",
    "        self.downs = nn.ModuleList()\n",
    "        self.ups = nn.ModuleList()\n",
    "\n",
    "        # down path\n",
    "        for feature in features:\n",
    "            self.downs.append(DoubleConv(in_channels, feature))\n",
    "            in_channels = feature\n",
    "            self.downs.append(nn.MaxPool2d(kernel_size=2, stride=2))\n",
    "\n",
    "        # up path\n",
    "        for feature in reversed(features):\n",
    "            self.ups.append(nn.ConvTranspose2d(feature*2, feature, kernel_size=2, stride=2))\n",
    "            self.ups.append(DoubleConv(feature*2, feature))\n",
    "\n",
    "        self.bottleneck = DoubleConv(features[-1], features[-1]*2)\n",
    "        self.final_conv = nn.Conv2d(features[0], out_channels, kernel_size=1)\n",
    "\n",
    "    def __hash__(self): #make instance hashable by its id\n",
    "        return id(self)\n",
    "\n",
    "    def forward(self, x):\n",
    "        skip = []\n",
    "        for idx in range(0, len(self.downs), 2):\n",
    "            conv = self.downs[idx](x)\n",
    "            skip.append(conv)\n",
    "            x = self.downs[idx+1](conv)\n",
    "\n",
    "        x = self.bottleneck(x)\n",
    "        skip = skip[::-1]\n",
    "\n",
    "        for idx in range(0, len(self.ups), 2):\n",
    "            x = self.ups[idx](x)\n",
    "            sc = skip[idx//2]\n",
    "            if x.shape[2:] != sc.shape[2:]:\n",
    "                x = F.interpolate(x, size=sc.shape[2:], mode='nearest')\n",
    "            x = torch.cat([sc, x], dim=1)\n",
    "            x = self.ups[idx+1](x)\n",
    "\n",
    "        return self.final_conv(x)"
   ]
  },
  {
   "cell_type": "markdown",
   "id": "d908da46",
   "metadata": {},
   "source": [
    "#### train"
   ]
  },
  {
   "cell_type": "code",
   "execution_count": 5,
   "id": "3f6ab2c0",
   "metadata": {},
   "outputs": [],
   "source": [
    "def train_model(model: nn.Module, train_loader: DataLoader,\n",
    "                val_loader: DataLoader, device: torch.device,\n",
    "                epochs: int = 50, lr: float = 1e-4):\n",
    "\n",
    "    criterion = nn.BCEWithLogitsLoss() #! check this------\n",
    "    optimizer = torch.optim.Adam(model.parameters(), lr=lr)\n",
    "    model.to(device)\n",
    "\n",
    "    tl, tt = [], []\n",
    "    for epoch in range(1, epochs+1):\n",
    "        model.train()\n",
    "        train_loss = 0.0\n",
    "        for imgs, masks in train_loader:\n",
    "            imgs, masks = imgs.to(device), masks.to(device)\n",
    "            preds = model(imgs)\n",
    "            loss = criterion(preds, masks)\n",
    "            optimizer.zero_grad()\n",
    "            loss.backward()\n",
    "            optimizer.step()\n",
    "            train_loss += loss.item() * imgs.size(0)\n",
    "        train_loss /= len(train_loader.dataset)\n",
    "        tl.append(train_loss)\n",
    "\n",
    "        model.eval()\n",
    "        val_loss = 0.0\n",
    "        with torch.no_grad():\n",
    "            for imgs, masks in val_loader:\n",
    "                imgs, masks = imgs.to(device), masks.to(device)\n",
    "                preds = model(imgs)\n",
    "                loss = criterion(preds, masks)\n",
    "                val_loss += loss.item() * imgs.size(0)\n",
    "            val_loss /= len(val_loader.dataset)\n",
    "            tt.append(val_loss)\n",
    "\n",
    "        # print(f'epoch {epoch}/{epochs}, train:{train_loss:.4f}, val: {val_loss:.4f}')\n",
    "    return tl, tt"
   ]
  },
  {
   "cell_type": "markdown",
   "id": "9fb5ef16",
   "metadata": {},
   "source": [
    "data"
   ]
  },
  {
   "cell_type": "code",
   "execution_count": 6,
   "id": "0d41129a",
   "metadata": {},
   "outputs": [],
   "source": [
    "dataset = np.load('batch.npy')\n",
    "bands = dataset[:4]"
   ]
  },
  {
   "cell_type": "code",
   "execution_count": 7,
   "id": "01211847",
   "metadata": {},
   "outputs": [
    {
     "data": {
      "text/plain": [
       "-0.10034388658183362"
      ]
     },
     "execution_count": 7,
     "metadata": {},
     "output_type": "execute_result"
    }
   ],
   "source": [
    "threshold = dataset[-1].mean()\n",
    "threshold"
   ]
  },
  {
   "cell_type": "code",
   "execution_count": 8,
   "id": "94248649",
   "metadata": {},
   "outputs": [],
   "source": [
    "mask = (dataset[-1] > threshold).astype(np.uint8) #random val for turbidity"
   ]
  },
  {
   "cell_type": "code",
   "execution_count": 9,
   "id": "1128c3aa",
   "metadata": {},
   "outputs": [
    {
     "data": {
      "text/plain": [
       "((4, 129, 129), (129, 129))"
      ]
     },
     "execution_count": 9,
     "metadata": {},
     "output_type": "execute_result"
    }
   ],
   "source": [
    "bands.shape, mask.shape"
   ]
  },
  {
   "cell_type": "code",
   "execution_count": 10,
   "id": "c7b53cb4",
   "metadata": {},
   "outputs": [],
   "source": [
    "X = np.concatenate([bands, dataset[-1][None, ...]], axis=0)[None, ...]\n",
    "y = mask[None, None, :, :]"
   ]
  },
  {
   "cell_type": "code",
   "execution_count": 11,
   "id": "d4f49377",
   "metadata": {},
   "outputs": [
    {
     "data": {
      "text/plain": [
       "((1, 5, 129, 129), (1, 1, 129, 129))"
      ]
     },
     "execution_count": 11,
     "metadata": {},
     "output_type": "execute_result"
    }
   ],
   "source": [
    "X.shape, y.shape"
   ]
  },
  {
   "cell_type": "markdown",
   "id": "39fe3dff",
   "metadata": {},
   "source": [
    "----"
   ]
  },
  {
   "cell_type": "code",
   "execution_count": 12,
   "id": "8128a591",
   "metadata": {},
   "outputs": [],
   "source": [
    "arr = np.transpose(dataset, (1, 2, 0))\n",
    "images = arr[..., :4]\n",
    "mask   = arr[..., 4]"
   ]
  },
  {
   "cell_type": "code",
   "execution_count": 13,
   "id": "03694fb9",
   "metadata": {},
   "outputs": [],
   "source": [
    "patch_size = 43\n",
    "step = 43\n",
    "\n",
    "img_patches = view_as_windows(images,\n",
    "                              window_shape=(patch_size, patch_size, 4),\n",
    "                              step=step\n",
    "                              )\n",
    "img_patches = img_patches.reshape(-1, patch_size, patch_size, 4)"
   ]
  },
  {
   "cell_type": "code",
   "execution_count": 14,
   "id": "6b329cd0",
   "metadata": {},
   "outputs": [],
   "source": [
    "mask_patches = view_as_windows(mask,\n",
    "                               window_shape=(patch_size, patch_size),\n",
    "                               step=step\n",
    "                               )\n",
    "\n",
    "mask_patches = mask_patches.reshape(-1, patch_size, patch_size)"
   ]
  },
  {
   "cell_type": "code",
   "execution_count": 15,
   "id": "045a45cf",
   "metadata": {},
   "outputs": [],
   "source": [
    "X = np.transpose(img_patches, (0, 3, 1, 2))\n",
    "y = mask_patches[:, None, ...]"
   ]
  },
  {
   "cell_type": "code",
   "execution_count": 16,
   "id": "8770c602",
   "metadata": {},
   "outputs": [],
   "source": [
    "N = X.shape[0]\n",
    "split_idx = int(0.8 * N)\n",
    "train_imgs, val_imgs   = X[:split_idx], X[split_idx:]\n",
    "train_masks, val_masks = y[:split_idx], y[split_idx:]"
   ]
  },
  {
   "cell_type": "code",
   "execution_count": 17,
   "id": "bb81de55",
   "metadata": {},
   "outputs": [
    {
     "data": {
      "text/plain": [
       "((7, 4, 43, 43), (2, 4, 43, 43), (7, 1, 43, 43), (2, 1, 43, 43))"
      ]
     },
     "execution_count": 17,
     "metadata": {},
     "output_type": "execute_result"
    }
   ],
   "source": [
    "train_imgs.shape, val_imgs.shape, train_masks.shape, val_masks.shape"
   ]
  },
  {
   "cell_type": "markdown",
   "id": "4a9ad400",
   "metadata": {},
   "source": [
    "split"
   ]
  },
  {
   "cell_type": "code",
   "execution_count": 18,
   "id": "b1583f6a",
   "metadata": {},
   "outputs": [],
   "source": [
    "split_idx = int(0.8 * len(X))\n",
    "train_imgs, val_imgs = X[:split_idx], X[split_idx:]\n",
    "train_masks, val_masks = y[:split_idx], y[split_idx:]"
   ]
  },
  {
   "cell_type": "code",
   "execution_count": 19,
   "id": "bf56b3be",
   "metadata": {},
   "outputs": [],
   "source": [
    "N = X.shape[0]\n",
    "train_frac = 0.8\n",
    "split_idx = math.ceil(train_frac * N)  # ceil(0.8 * 1) == 1\n",
    "\n",
    "train_imgs, val_imgs = X[:split_idx], X[split_idx:]\n",
    "train_masks, val_masks = y[:split_idx], y[split_idx:]"
   ]
  },
  {
   "cell_type": "code",
   "execution_count": 20,
   "id": "b4b2f546",
   "metadata": {},
   "outputs": [
    {
     "data": {
      "text/plain": [
       "((8, 4, 43, 43), (1, 4, 43, 43), (8, 1, 43, 43), (1, 1, 43, 43))"
      ]
     },
     "execution_count": 20,
     "metadata": {},
     "output_type": "execute_result"
    }
   ],
   "source": [
    "train_imgs.shape, val_imgs.shape, train_masks.shape, val_masks.shape"
   ]
  },
  {
   "cell_type": "code",
   "execution_count": 21,
   "id": "fae890b6",
   "metadata": {},
   "outputs": [],
   "source": [
    "transform = transforms.Compose([transforms.ToTensor(),\n",
    "                                transforms.Normalize(mean=[0.485, 0.456, 0.406, 0.5, 0.5],\n",
    "                                                     std=[0.229, 0.224, 0.225, 0.25, 0.25])\n",
    "                                ])"
   ]
  },
  {
   "cell_type": "code",
   "execution_count": 22,
   "id": "0c5950c0",
   "metadata": {},
   "outputs": [],
   "source": [
    "train_dataset = SatelliteDataset(train_imgs, train_masks, transform=transform)\n",
    "val_dataset = SatelliteDataset(val_imgs, val_masks, transform=transform)"
   ]
  },
  {
   "cell_type": "code",
   "execution_count": 23,
   "id": "0c859087",
   "metadata": {},
   "outputs": [],
   "source": [
    "train_loader = DataLoader(train_dataset, batch_size=8, shuffle=False)\n",
    "val_loader = DataLoader(val_dataset, batch_size=8)"
   ]
  },
  {
   "cell_type": "markdown",
   "id": "f598fcc1",
   "metadata": {},
   "source": [
    "use mps for metal acc"
   ]
  },
  {
   "cell_type": "code",
   "execution_count": 24,
   "id": "4c801aec",
   "metadata": {},
   "outputs": [
    {
     "data": {
      "text/plain": [
       "True"
      ]
     },
     "execution_count": 24,
     "metadata": {},
     "output_type": "execute_result"
    }
   ],
   "source": [
    "torch.backends.mps.is_available()"
   ]
  },
  {
   "cell_type": "code",
   "execution_count": 25,
   "id": "e9564c27",
   "metadata": {},
   "outputs": [
    {
     "data": {
      "text/plain": [
       "device(type='mps')"
      ]
     },
     "execution_count": 25,
     "metadata": {},
     "output_type": "execute_result"
    }
   ],
   "source": [
    "device = torch.device(\"mps\")\n",
    "device"
   ]
  },
  {
   "cell_type": "markdown",
   "id": "4e27449f",
   "metadata": {},
   "source": [
    "#### try"
   ]
  },
  {
   "cell_type": "code",
   "execution_count": 56,
   "id": "0b8adfef",
   "metadata": {},
   "outputs": [
    {
     "data": {
      "text/plain": [
       "UNet()"
      ]
     },
     "execution_count": 56,
     "metadata": {},
     "output_type": "execute_result"
    }
   ],
   "source": [
    "model = UNet(in_channels=4, out_channels=1)\n",
    "model.to(device, dtype=torch.float32)"
   ]
  },
  {
   "cell_type": "code",
   "execution_count": 57,
   "id": "638a9b57",
   "metadata": {},
   "outputs": [
    {
     "name": "stdout",
     "output_type": "stream",
     "text": [
      "epoch 1/50, train:0.6814, val: 0.7498\n",
      "epoch 2/50, train:0.6441, val: 0.7444\n",
      "epoch 3/50, train:0.6233, val: 0.7384\n",
      "epoch 4/50, train:0.6069, val: 0.7326\n",
      "epoch 5/50, train:0.5912, val: 0.7273\n",
      "epoch 6/50, train:0.5757, val: 0.7225\n",
      "epoch 7/50, train:0.5608, val: 0.7184\n",
      "epoch 8/50, train:0.5465, val: 0.7149\n",
      "epoch 9/50, train:0.5324, val: 0.7118\n",
      "epoch 10/50, train:0.5184, val: 0.7084\n",
      "epoch 11/50, train:0.5047, val: 0.7042\n",
      "epoch 12/50, train:0.4916, val: 0.6989\n",
      "epoch 13/50, train:0.4791, val: 0.6922\n",
      "epoch 14/50, train:0.4671, val: 0.6842\n",
      "epoch 15/50, train:0.4556, val: 0.6748\n",
      "epoch 16/50, train:0.4444, val: 0.6639\n",
      "epoch 17/50, train:0.4337, val: 0.6520\n",
      "epoch 18/50, train:0.4233, val: 0.6393\n",
      "epoch 19/50, train:0.4132, val: 0.6263\n",
      "epoch 20/50, train:0.4034, val: 0.6130\n",
      "epoch 21/50, train:0.3939, val: 0.5997\n",
      "epoch 22/50, train:0.3846, val: 0.5864\n",
      "epoch 23/50, train:0.3755, val: 0.5732\n",
      "epoch 24/50, train:0.3665, val: 0.5601\n",
      "epoch 25/50, train:0.3577, val: 0.5471\n",
      "epoch 26/50, train:0.3491, val: 0.5343\n",
      "epoch 27/50, train:0.3409, val: 0.5217\n",
      "epoch 28/50, train:0.3333, val: 0.5095\n",
      "epoch 29/50, train:0.3262, val: 0.4978\n",
      "epoch 30/50, train:0.3197, val: 0.4866\n",
      "epoch 31/50, train:0.3138, val: 0.4758\n",
      "epoch 32/50, train:0.3083, val: 0.4653\n",
      "epoch 33/50, train:0.3032, val: 0.4551\n",
      "epoch 34/50, train:0.2985, val: 0.4450\n",
      "epoch 35/50, train:0.2940, val: 0.4350\n",
      "epoch 36/50, train:0.2897, val: 0.4252\n",
      "epoch 37/50, train:0.2857, val: 0.4156\n",
      "epoch 38/50, train:0.2820, val: 0.4063\n",
      "epoch 39/50, train:0.2784, val: 0.3973\n",
      "epoch 40/50, train:0.2750, val: 0.3886\n",
      "epoch 41/50, train:0.2718, val: 0.3804\n",
      "epoch 42/50, train:0.2688, val: 0.3729\n",
      "epoch 43/50, train:0.2659, val: 0.3661\n",
      "epoch 44/50, train:0.2632, val: 0.3602\n",
      "epoch 45/50, train:0.2606, val: 0.3553\n",
      "epoch 46/50, train:0.2581, val: 0.3512\n",
      "epoch 47/50, train:0.2557, val: 0.3480\n",
      "epoch 48/50, train:0.2534, val: 0.3453\n",
      "epoch 49/50, train:0.2512, val: 0.3432\n",
      "epoch 50/50, train:0.2490, val: 0.3414\n"
     ]
    }
   ],
   "source": [
    "tl,tt = train_model(model, train_loader, val_loader, device, epochs=50, lr=1e-4)"
   ]
  },
  {
   "cell_type": "code",
   "execution_count": null,
   "id": "c462b181",
   "metadata": {},
   "outputs": [
    {
     "data": {
      "image/png": "[encoded data removed]",
      "text/plain": [
       "<Figure size 1280x960 with 1 Axes>"
      ]
     },
     "metadata": {},
     "output_type": "display_data"
    }
   ],
   "source": [
    "epochs = np.arange(1, 51)\n",
    "plt.plot(epochs, tl, label='train')\n",
    "plt.plot(epochs, tt, label='val')\n",
    "plt.legend()\n",
    "plt.xlabel('Epochs')\n",
    "plt.ylabel('Loss')\n",
    "plt.show()"
   ]
  },
  {
   "cell_type": "markdown",
   "id": "9bda1e80",
   "metadata": {},
   "source": [
    "----"
   ]
  },
  {
   "cell_type": "code",
   "execution_count": 26,
   "id": "b434f22d",
   "metadata": {},
   "outputs": [],
   "source": [
    "@dataclass\n",
    "class ModelOptimizer:\n",
    "    x_train: np.ndarray\n",
    "    y_train: np.ndarray\n",
    "    x_val: np.ndarray\n",
    "    y_val: np.ndarray\n",
    "    best_params: Dict = field(default_factory=dict)\n",
    "\n",
    "    def objective(self, trial):\n",
    "        lr = trial.suggest_float('lr', 1e-5, 1e-2, log=True)\n",
    "        epochs = trial.suggest_int('epochs', 10, 100)\n",
    "        # batch_size = trial.suggest_int('batch_size', 4, 32)\n",
    "\n",
    "        model = UNet(in_channels=4, out_channels=1)\n",
    "        model.to(device, dtype=torch.float32)\n",
    "\n",
    "        train_dataset = SatelliteDataset(self.x_train, self.y_train)\n",
    "        val_dataset = SatelliteDataset(self.x_val, self.y_val)\n",
    "\n",
    "        train_loader = DataLoader(train_dataset, batch_size=8, shuffle=False)\n",
    "        val_loader = DataLoader(val_dataset, batch_size=8)\n",
    "\n",
    "        tl, tt = train_model(model, train_loader, val_loader, device, epochs=epochs, lr=lr)\n",
    "        val_loss = tt[-1]\n",
    "        # r2 = r2_score(self.y_val.flatten(), model(self.x_val).flatten().cpu().numpy())\n",
    "        # print(f'val_loss: {val_loss:.4f}, r2: {r2:.4f}')\n",
    "        return val_loss\n",
    "\n",
    "    def optimize(self, n_trials):\n",
    "        study = optuna.create_study(direction='minimize')\n",
    "        study.optimize(self.objective, n_trials=n_trials)\n",
    "        self.best_params = study.best_params\n",
    "        print(f'Best params: {self.best_params}')\n",
    "        return self.best_params"
   ]
  },
  {
   "cell_type": "code",
   "execution_count": 27,
   "id": "1b5477d4",
   "metadata": {},
   "outputs": [],
   "source": [
    "study = ModelOptimizer(x_train=train_imgs, y_train=train_masks,\n",
    "                       x_val=val_imgs, y_val=val_masks)"
   ]
  },
  {
   "cell_type": "code",
   "execution_count": 28,
   "id": "354992e8",
   "metadata": {},
   "outputs": [
    {
     "name": "stderr",
     "output_type": "stream",
     "text": [
      "[I 2025-04-30 08:52:20,996] A new study created in memory with name: no-name-36934bd9-f98c-413d-b3cf-c667512ec9aa\n",
      "[I 2025-04-30 08:52:34,083] Trial 0 finished with value: -5.152365207672119 and parameters: {'lr': 0.0072266738868203406, 'epochs': 95}. Best is trial 0 with value: -5.152365207672119.\n",
      "[I 2025-04-30 08:52:43,559] Trial 1 finished with value: 0.02345026656985283 and parameters: {'lr': 0.0003442310671614237, 'epochs': 78}. Best is trial 0 with value: -5.152365207672119.\n",
      "[I 2025-04-30 08:52:45,134] Trial 2 finished with value: -8.439896583557129 and parameters: {'lr': 0.0066937874171173455, 'epochs': 12}. Best is trial 2 with value: -8.439896583557129.\n",
      "[I 2025-04-30 08:52:56,780] Trial 3 finished with value: -0.018211154267191887 and parameters: {'lr': 0.0006020852293604677, 'epochs': 96}. Best is trial 2 with value: -8.439896583557129.\n",
      "[I 2025-04-30 08:52:59,070] Trial 4 finished with value: 0.5646000504493713 and parameters: {'lr': 0.0002599521522648678, 'epochs': 18}. Best is trial 2 with value: -8.439896583557129.\n",
      "[I 2025-04-30 08:53:08,459] Trial 5 finished with value: -0.02618594840168953 and parameters: {'lr': 0.000738854028756133, 'epochs': 77}. Best is trial 2 with value: -8.439896583557129.\n",
      "[I 2025-04-30 08:53:14,960] Trial 6 finished with value: -0.08304634690284729 and parameters: {'lr': 0.0007935342467937775, 'epochs': 53}. Best is trial 2 with value: -8.439896583557129.\n",
      "[I 2025-04-30 08:53:25,178] Trial 7 finished with value: -0.0012976907892152667 and parameters: {'lr': 0.0008532505267485278, 'epochs': 84}. Best is trial 2 with value: -8.439896583557129.\n",
      "[I 2025-04-30 08:53:36,801] Trial 8 finished with value: -0.2097291648387909 and parameters: {'lr': 0.001393480622887066, 'epochs': 96}. Best is trial 2 with value: -8.439896583557129.\n",
      "[I 2025-04-30 08:53:48,007] Trial 9 finished with value: -2.0947227478027344 and parameters: {'lr': 0.005307406546275747, 'epochs': 92}. Best is trial 2 with value: -8.439896583557129.\n"
     ]
    },
    {
     "name": "stdout",
     "output_type": "stream",
     "text": [
      "Best params: {'lr': 0.0066937874171173455, 'epochs': 12}\n"
     ]
    }
   ],
   "source": [
    "best = study.optimize(n_trials=10)"
   ]
  },
  {
   "cell_type": "code",
   "execution_count": 29,
   "id": "19949c11",
   "metadata": {},
   "outputs": [],
   "source": [
    "model = UNet(in_channels=4, out_channels=1)\n",
    "model.to(device, dtype=torch.float32)\n",
    "tl,tt = train_model(model, train_loader, val_loader, device, epochs=best['epochs'], lr=best['lr'])"
   ]
  },
  {
   "cell_type": "code",
   "execution_count": null,
   "id": "b99c61e9",
   "metadata": {},
   "outputs": [],
   "source": [
    "epochs = np.arange(1, best['epochs']+1)\n",
    "\n",
    "plt.plot(epochs, tl, label='train')\n",
    "plt.plot(epochs, tt, label='val')\n",
    "plt.title(f\"Best params: {best}\")\n",
    "plt.xlabel('Epochs')\n",
    "plt.ylabel('Loss')\n",
    "plt.xlim(1, 5)\n",
    "plt.grid(linewidth=0.1)\n",
    "plt.legend()\n",
    "plt.show()"
   ]
  }
 ],
 "metadata": {
  "kernelspec": {
   "display_name": "Python 3",
   "language": "python",
   "name": "python3"
  },
  "language_info": {
   "codemirror_mode": {
    "name": "ipython",
    "version": 3
   },
   "file_extension": ".py",
   "mimetype": "text/x-python",
   "name": "python",
   "nbconvert_exporter": "python",
   "pygments_lexer": "ipython3",
   "version": "3.12.2"
  }
 },
 "nbformat": 4,
 "nbformat_minor": 5
}
